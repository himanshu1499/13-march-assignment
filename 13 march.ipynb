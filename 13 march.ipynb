{
 "cells": [
  {
   "cell_type": "code",
   "execution_count": 3,
   "id": "8a48ad98-ae97-4d1d-88e8-bd334eb1963e",
   "metadata": {},
   "outputs": [],
   "source": [
    "#q12"
   ]
  },
  {
   "cell_type": "code",
   "execution_count": 4,
   "id": "0431fc4e-7bd6-4922-af67-a2e0198fe1f0",
   "metadata": {},
   "outputs": [],
   "source": [
    "import pandas as pd\n",
    "import statsmodels.api as sm\n",
    "from statsmodels.formula.api import ols\n",
    "from statsmodels.stats.anova import anova_lm\n",
    "from statsmodels.stats.multicomp import pairwise_tukeyhsd\n"
   ]
  },
  {
   "cell_type": "code",
   "execution_count": 5,
   "id": "6bfa1f9a-4e82-4708-b53a-6025abcc46e3",
   "metadata": {},
   "outputs": [],
   "source": [
    "data = {'Store': ['A']*30 + ['B']*30 + ['C']*30,\n",
    "        'Day': list(range(1, 31))*3,\n",
    "        'Sales': [10, 15, 12, 8, 9, 11, 14, 13, 16, 17, 12, 10, 9, 11, 8, 12, 10, 13, 15, 16, 18, 14, 11, 13, 12, 10, 11, 9, 7, 8]*3}\n",
    "df = pd.DataFrame(data)\n"
   ]
  },
  {
   "cell_type": "code",
   "execution_count": 6,
   "id": "4b16f9ab-edd2-45c1-b4be-6cb9b7ad3042",
   "metadata": {},
   "outputs": [
    {
     "data": {
      "text/html": [
       "<div>\n",
       "<style scoped>\n",
       "    .dataframe tbody tr th:only-of-type {\n",
       "        vertical-align: middle;\n",
       "    }\n",
       "\n",
       "    .dataframe tbody tr th {\n",
       "        vertical-align: top;\n",
       "    }\n",
       "\n",
       "    .dataframe thead th {\n",
       "        text-align: right;\n",
       "    }\n",
       "</style>\n",
       "<table border=\"1\" class=\"dataframe\">\n",
       "  <thead>\n",
       "    <tr style=\"text-align: right;\">\n",
       "      <th></th>\n",
       "      <th>Store</th>\n",
       "      <th>Day</th>\n",
       "      <th>Sales</th>\n",
       "    </tr>\n",
       "  </thead>\n",
       "  <tbody>\n",
       "    <tr>\n",
       "      <th>0</th>\n",
       "      <td>A</td>\n",
       "      <td>1</td>\n",
       "      <td>10</td>\n",
       "    </tr>\n",
       "    <tr>\n",
       "      <th>1</th>\n",
       "      <td>A</td>\n",
       "      <td>2</td>\n",
       "      <td>15</td>\n",
       "    </tr>\n",
       "    <tr>\n",
       "      <th>2</th>\n",
       "      <td>A</td>\n",
       "      <td>3</td>\n",
       "      <td>12</td>\n",
       "    </tr>\n",
       "    <tr>\n",
       "      <th>3</th>\n",
       "      <td>A</td>\n",
       "      <td>4</td>\n",
       "      <td>8</td>\n",
       "    </tr>\n",
       "    <tr>\n",
       "      <th>4</th>\n",
       "      <td>A</td>\n",
       "      <td>5</td>\n",
       "      <td>9</td>\n",
       "    </tr>\n",
       "    <tr>\n",
       "      <th>...</th>\n",
       "      <td>...</td>\n",
       "      <td>...</td>\n",
       "      <td>...</td>\n",
       "    </tr>\n",
       "    <tr>\n",
       "      <th>85</th>\n",
       "      <td>C</td>\n",
       "      <td>26</td>\n",
       "      <td>10</td>\n",
       "    </tr>\n",
       "    <tr>\n",
       "      <th>86</th>\n",
       "      <td>C</td>\n",
       "      <td>27</td>\n",
       "      <td>11</td>\n",
       "    </tr>\n",
       "    <tr>\n",
       "      <th>87</th>\n",
       "      <td>C</td>\n",
       "      <td>28</td>\n",
       "      <td>9</td>\n",
       "    </tr>\n",
       "    <tr>\n",
       "      <th>88</th>\n",
       "      <td>C</td>\n",
       "      <td>29</td>\n",
       "      <td>7</td>\n",
       "    </tr>\n",
       "    <tr>\n",
       "      <th>89</th>\n",
       "      <td>C</td>\n",
       "      <td>30</td>\n",
       "      <td>8</td>\n",
       "    </tr>\n",
       "  </tbody>\n",
       "</table>\n",
       "<p>90 rows × 3 columns</p>\n",
       "</div>"
      ],
      "text/plain": [
       "   Store  Day  Sales\n",
       "0      A    1     10\n",
       "1      A    2     15\n",
       "2      A    3     12\n",
       "3      A    4      8\n",
       "4      A    5      9\n",
       "..   ...  ...    ...\n",
       "85     C   26     10\n",
       "86     C   27     11\n",
       "87     C   28      9\n",
       "88     C   29      7\n",
       "89     C   30      8\n",
       "\n",
       "[90 rows x 3 columns]"
      ]
     },
     "execution_count": 6,
     "metadata": {},
     "output_type": "execute_result"
    }
   ],
   "source": [
    "df"
   ]
  },
  {
   "cell_type": "code",
   "execution_count": 7,
   "id": "88d583ba-1459-4eae-9e14-4c8fd93b5232",
   "metadata": {},
   "outputs": [
    {
     "name": "stdout",
     "output_type": "stream",
     "text": [
      "                sum_sq    df             F        PR(>F)\n",
      "C(Store)  5.056949e-26   2.0  2.594163e+01  8.961845e-09\n",
      "C(Day)    7.224000e+02  29.0  2.555750e+28  0.000000e+00\n",
      "Residual  5.653135e-26  58.0           NaN           NaN\n"
     ]
    }
   ],
   "source": [
    "model = ols('Sales ~ C(Store) + C(Day)', data=df).fit()\n",
    "anova_table = anova_lm(model, typ=2)\n",
    "print(anova_table)\n"
   ]
  },
  {
   "cell_type": "code",
   "execution_count": 8,
   "id": "a6dabcbc-e85d-42ee-b4f8-d254e392055f",
   "metadata": {},
   "outputs": [
    {
     "name": "stdout",
     "output_type": "stream",
     "text": [
      "Multiple Comparison of Means - Tukey HSD, FWER=0.05\n",
      "==================================================\n",
      "group1 group2 meandiff p-adj  lower  upper  reject\n",
      "--------------------------------------------------\n",
      "     A      B      0.0   1.0 -1.7741 1.7741  False\n",
      "     A      C      0.0   1.0 -1.7741 1.7741  False\n",
      "     B      C      0.0   1.0 -1.7741 1.7741  False\n",
      "--------------------------------------------------\n"
     ]
    }
   ],
   "source": [
    "posthoc = pairwise_tukeyhsd(df['Sales'], df['Store'])\n",
    "print(posthoc)\n"
   ]
  },
  {
   "cell_type": "code",
   "execution_count": 9,
   "id": "62fc4d80-3fd3-4822-81e7-82fb826bdf6a",
   "metadata": {},
   "outputs": [],
   "source": [
    "#q11"
   ]
  },
  {
   "cell_type": "code",
   "execution_count": null,
   "id": "bd2254ad-3dd3-400e-af61-b14e97fa5d19",
   "metadata": {},
   "outputs": [],
   "source": [
    "import numpy as np\n",
    "from scipy.stats import ttest_ind, f_oneway, tukeyhsd\n",
    "\n",
    "# Set random seed for reproducibility\n",
    "np.random.seed(123)\n",
    "\n",
    "# Generate random test scores for control group and experimental group\n",
    "control_scores = np.random.normal(loc=70, scale=10, size=100)\n",
    "experimental_scores = np.random.normal(loc=75, scale=10, size=100)\n",
    "\n",
    "# Conduct two-sample t-test\n",
    "t_stat, p_val = ttest_ind(control_scores, experimental_scores)\n",
    "\n",
    "# Print results\n",
    "print(\"Two-sample t-test results:\")\n",
    "print(\"t-statistic:\", t_stat)\n",
    "print(\"p-value:\", p_val)\n",
    "\n",
    "# Conduct post-hoc test (Tukey's HSD)\n",
    "all_scores = np.concatenate((control_scores, experimental_scores))\n",
    "group_labels = np.concatenate((np.repeat(\"Control\", 100), np.repeat(\"Experimental\", 100)))\n",
    "tukey_results = tukeyhsd(all_scores, group_labels, 0.05)\n",
    "\n",
    "# Print post-hoc test results\n",
    "print(\"Post-hoc test (Tukey's HSD) results:\")\n",
    "print(tukey_results)\n"
   ]
  },
  {
   "cell_type": "code",
   "execution_count": 11,
   "id": "a05a82b7-ea0b-4370-9c96-b29a9af968ba",
   "metadata": {},
   "outputs": [],
   "source": [
    "#q10"
   ]
  },
  {
   "cell_type": "code",
   "execution_count": 12,
   "id": "a29944e5-4c53-4fa9-a03f-0e39911ed6d2",
   "metadata": {},
   "outputs": [],
   "source": [
    "import numpy as np\n",
    "import pandas as pd\n",
    "\n",
    "# Generate random data\n",
    "np.random.seed(123)\n",
    "time = np.concatenate([np.random.normal(10, 1, 30), np.random.normal(12, 1, 30), np.random.normal(14, 1, 30)])\n",
    "program = np.repeat([\"A\", \"B\", \"C\"], 30)\n",
    "experience = np.tile([\"Novice\", \"Experienced\"], 45)\n",
    "\n",
    "# Create data frame\n",
    "df = pd.DataFrame({\"Time\": time, \"Program\": program, \"Experience\": experience})\n"
   ]
  },
  {
   "cell_type": "code",
   "execution_count": 13,
   "id": "ea01eb29-17a7-45f9-b604-a3c35757e486",
   "metadata": {},
   "outputs": [
    {
     "data": {
      "text/html": [
       "<div>\n",
       "<style scoped>\n",
       "    .dataframe tbody tr th:only-of-type {\n",
       "        vertical-align: middle;\n",
       "    }\n",
       "\n",
       "    .dataframe tbody tr th {\n",
       "        vertical-align: top;\n",
       "    }\n",
       "\n",
       "    .dataframe thead th {\n",
       "        text-align: right;\n",
       "    }\n",
       "</style>\n",
       "<table border=\"1\" class=\"dataframe\">\n",
       "  <thead>\n",
       "    <tr style=\"text-align: right;\">\n",
       "      <th></th>\n",
       "      <th>Time</th>\n",
       "      <th>Program</th>\n",
       "      <th>Experience</th>\n",
       "    </tr>\n",
       "  </thead>\n",
       "  <tbody>\n",
       "    <tr>\n",
       "      <th>0</th>\n",
       "      <td>8.914369</td>\n",
       "      <td>A</td>\n",
       "      <td>Novice</td>\n",
       "    </tr>\n",
       "    <tr>\n",
       "      <th>1</th>\n",
       "      <td>10.997345</td>\n",
       "      <td>A</td>\n",
       "      <td>Experienced</td>\n",
       "    </tr>\n",
       "    <tr>\n",
       "      <th>2</th>\n",
       "      <td>10.282978</td>\n",
       "      <td>A</td>\n",
       "      <td>Novice</td>\n",
       "    </tr>\n",
       "    <tr>\n",
       "      <th>3</th>\n",
       "      <td>8.493705</td>\n",
       "      <td>A</td>\n",
       "      <td>Experienced</td>\n",
       "    </tr>\n",
       "    <tr>\n",
       "      <th>4</th>\n",
       "      <td>9.421400</td>\n",
       "      <td>A</td>\n",
       "      <td>Novice</td>\n",
       "    </tr>\n",
       "    <tr>\n",
       "      <th>...</th>\n",
       "      <td>...</td>\n",
       "      <td>...</td>\n",
       "      <td>...</td>\n",
       "    </tr>\n",
       "    <tr>\n",
       "      <th>85</th>\n",
       "      <td>12.914098</td>\n",
       "      <td>C</td>\n",
       "      <td>Experienced</td>\n",
       "    </tr>\n",
       "    <tr>\n",
       "      <th>86</th>\n",
       "      <td>13.267538</td>\n",
       "      <td>C</td>\n",
       "      <td>Novice</td>\n",
       "    </tr>\n",
       "    <tr>\n",
       "      <th>87</th>\n",
       "      <td>12.787477</td>\n",
       "      <td>C</td>\n",
       "      <td>Experienced</td>\n",
       "    </tr>\n",
       "    <tr>\n",
       "      <th>88</th>\n",
       "      <td>16.087113</td>\n",
       "      <td>C</td>\n",
       "      <td>Novice</td>\n",
       "    </tr>\n",
       "    <tr>\n",
       "      <th>89</th>\n",
       "      <td>14.164441</td>\n",
       "      <td>C</td>\n",
       "      <td>Experienced</td>\n",
       "    </tr>\n",
       "  </tbody>\n",
       "</table>\n",
       "<p>90 rows × 3 columns</p>\n",
       "</div>"
      ],
      "text/plain": [
       "         Time Program   Experience\n",
       "0    8.914369       A       Novice\n",
       "1   10.997345       A  Experienced\n",
       "2   10.282978       A       Novice\n",
       "3    8.493705       A  Experienced\n",
       "4    9.421400       A       Novice\n",
       "..        ...     ...          ...\n",
       "85  12.914098       C  Experienced\n",
       "86  13.267538       C       Novice\n",
       "87  12.787477       C  Experienced\n",
       "88  16.087113       C       Novice\n",
       "89  14.164441       C  Experienced\n",
       "\n",
       "[90 rows x 3 columns]"
      ]
     },
     "execution_count": 13,
     "metadata": {},
     "output_type": "execute_result"
    }
   ],
   "source": [
    "df"
   ]
  },
  {
   "cell_type": "code",
   "execution_count": 14,
   "id": "dbaf37fc-79a2-403d-9550-745d4f449b36",
   "metadata": {},
   "outputs": [
    {
     "name": "stdout",
     "output_type": "stream",
     "text": [
      "                      df      sum_sq     mean_sq          F        PR(>F)\n",
      "Program              2.0  225.905604  112.952802  81.748205  1.949109e-20\n",
      "Experience           1.0    0.773680    0.773680   0.559941  4.563739e-01\n",
      "Program:Experience   2.0    0.833565    0.416782   0.301641  7.404012e-01\n",
      "Residual            84.0  116.064144    1.381716        NaN           NaN\n"
     ]
    }
   ],
   "source": [
    "import statsmodels.api as sm\n",
    "from statsmodels.formula.api import ols\n",
    "\n",
    "# Fit the full model\n",
    "model = ols(\"Time ~ Program * Experience\", data=df).fit()\n",
    "\n",
    "# Print ANOVA table\n",
    "print(sm.stats.anova_lm(model))\n"
   ]
  },
  {
   "cell_type": "code",
   "execution_count": 15,
   "id": "00674e53-5a8e-4eda-913e-08fc609dd52f",
   "metadata": {},
   "outputs": [],
   "source": [
    "#q9"
   ]
  },
  {
   "cell_type": "code",
   "execution_count": 16,
   "id": "b9812343-2af6-4f2c-98dc-66fa187ba00e",
   "metadata": {},
   "outputs": [
    {
     "name": "stdout",
     "output_type": "stream",
     "text": [
      "F-statistic:  117.23042439634595\n",
      "p-value:  3.641256312947779e-31\n",
      "There is evidence of a significant difference in mean weight loss between the diets.\n"
     ]
    }
   ],
   "source": [
    "import numpy as np\n",
    "import scipy.stats as stats\n",
    "\n",
    "# Generate some random weight loss data for each diet\n",
    "diet_A = np.random.normal(5, 1, 50) # mean=5, std=1, n=50\n",
    "diet_B = np.random.normal(7, 1.5, 50) # mean=7, std=1.5, n=50\n",
    "diet_C = np.random.normal(4, 0.5, 50) # mean=4, std=0.5, n=50\n",
    "\n",
    "# Combine the data into a single array\n",
    "all_data = np.concatenate([diet_A, diet_B, diet_C])\n",
    "\n",
    "# Create a grouping variable to distinguish between the diets\n",
    "groups = np.array(['A'] * 50 + ['B'] * 50 + ['C'] * 50)\n",
    "\n",
    "# Conduct the one-way ANOVA\n",
    "f_statistic, p_value = stats.f_oneway(diet_A, diet_B, diet_C)\n",
    "\n",
    "# Print the results\n",
    "print(\"F-statistic: \", f_statistic)\n",
    "print(\"p-value: \", p_value)\n",
    "\n",
    "# Interpret the results\n",
    "if p_value < 0.05:\n",
    "    print(\"There is evidence of a significant difference in mean weight loss between the diets.\")\n",
    "else:\n",
    "    print(\"There is no evidence of a significant difference in mean weight loss between the diets.\")\n"
   ]
  },
  {
   "cell_type": "code",
   "execution_count": null,
   "id": "9d7f9636-f09e-4e87-b2cc-180b68259149",
   "metadata": {},
   "outputs": [],
   "source": [
    "The F-statistic is a measure of how much the variability between the group means differs from what we would expect based on chance alone.\n",
    "The p-value tells us the probability of observing an F-statistic at least as extreme as the one we calculated, assuming there is no true difference in mean weight loss between the diets.\n",
    "In this case, the p-value is very small (much smaller than 0.05), indicating strong evidence against the null hypothesis and in favor of the alternative hypothesis that there is a significant difference in mean weight loss between the diets."
   ]
  },
  {
   "cell_type": "code",
   "execution_count": 17,
   "id": "2b735de7-47c8-4afc-b79c-4e17422ffc1a",
   "metadata": {},
   "outputs": [],
   "source": [
    "#q8"
   ]
  },
  {
   "cell_type": "code",
   "execution_count": null,
   "id": "b7dc9476-e941-4760-ade2-5684eaa8a032",
   "metadata": {},
   "outputs": [],
   "source": [
    "Tukey's Honestly Significant Difference (HSD) Test: This test is used to determine which pairs of groups are significantly different from each other. It is often used when there are more than two groups being compared. For example, after conducting a one-way ANOVA to compare the effectiveness of three different medication treatments, a Tukey HSD test can be used to determine which medication treatments lead to significantly different outcomes.\n",
    "\n",
    "Bonferroni Correction: This test is used to control for multiple comparisons when conducting multiple t-tests. It is often used when there are only a few groups being compared. For example, after conducting a one-way ANOVA to compare the effectiveness of three different teaching methods, a Bonferroni correction can be used to determine which teaching methods lead to significantly different outcomes.\n",
    "\n",
    "Scheffé's Test: This test is used to control for multiple comparisons when conducting a large number of comparisons. It is often used when there are many groups being compared. For example, after conducting a one-way ANOVA to compare the effectiveness of ten different advertising campaigns, a Scheffé's test can be used to determine which campaigns lead to significantly different outcomes.\n",
    "\n",
    "Post-hoc tests are necessary in situations where the ANOVA test indicates a significant difference between groups, but does not provide information about which groups are significantly different. In these situations, post-hoc tests are used to determine which groups are significantly different from each other."
   ]
  },
  {
   "cell_type": "code",
   "execution_count": 18,
   "id": "9d02e377-769a-42d6-ba16-badee967cee5",
   "metadata": {},
   "outputs": [],
   "source": [
    "#q7"
   ]
  },
  {
   "cell_type": "code",
   "execution_count": null,
   "id": "9837c156-3aaa-481f-9d8a-93f52954212c",
   "metadata": {},
   "outputs": [],
   "source": [
    "In a repeated measures ANOVA, missing data can occur when one or more measurements are not available for a subject or when a subject drops out of the study. Handling missing data appropriately is important because it can affect the results and conclusions drawn from the analysis.\n",
    "\n",
    "One common approach to handling missing data in a repeated measures ANOVA is to use a method called imputation, which involves estimating missing values based on the available data. There are several methods for imputing missing data, including mean imputation, regression imputation, and multiple imputation.\n",
    "\n",
    "Mean imputation involves replacing missing values with the mean of the available data for that variable. Regression imputation involves estimating missing values based on a regression equation that uses other variables as predictors. Multiple imputation involves generating multiple plausible values for each missing data point based on the available data and combining the results to obtain an overall estimate.\n",
    "\n",
    "Another approach to handling missing data is to simply exclude any subjects with missing data from the analysis. However, this can lead to biased results if the missing data are not missing completely at random (MCAR), meaning that the probability of missing data depends on both the observed and unobserved data.\n",
    "\n",
    "The consequences of using different methods to handle missing data can be significant. Mean imputation can lead to underestimation of the standard error and biased estimates of the treatment effects if the missing data are not MCAR. Regression imputation can also lead to biased estimates if the imputation model is misspecified. Multiple imputation can provide more accurate estimates if the missing data are not MCAR, but it can be computationally intensive and requires making assumptions about the missing data mechanism."
   ]
  },
  {
   "cell_type": "code",
   "execution_count": 19,
   "id": "8e2fd8c6-7c91-4726-99ec-756281071166",
   "metadata": {},
   "outputs": [],
   "source": [
    "#q6"
   ]
  },
  {
   "cell_type": "code",
   "execution_count": null,
   "id": "d7224d0c-ccac-4083-a9b9-0e997697e7d5",
   "metadata": {},
   "outputs": [],
   "source": [
    "A one-way ANOVA with an F-statistic of 5.23 and a p-value of 0.02 indicates that there are significant differences between the groups being compared.\n",
    "The F-statistic suggests that there is a significant amount of variation between the group means, while the p-value indicates that the probability of obtaining such a result by chance alone is only 2%.\n",
    "\n",
    "Therefore, we can conclude that there is evidence to support the hypothesis that at least one of the group means is significantly different from the others.\n",
    "However, further post-hoc tests would be necessary to determine which groups differ significantly from each other. Overall, the results suggest that the variable being studied has an effect on the outcome and that the groups are not all the same with respect to the variable of interest."
   ]
  },
  {
   "cell_type": "code",
   "execution_count": 20,
   "id": "b0a752ea-492d-4375-bcfd-c2a0a528708d",
   "metadata": {},
   "outputs": [],
   "source": [
    "#q5"
   ]
  },
  {
   "cell_type": "code",
   "execution_count": null,
   "id": "4ccf6e7e-7728-4b17-bbb2-910f0603d803",
   "metadata": {},
   "outputs": [],
   "source": [
    "import statsmodels.api as sm\n",
    "from statsmodels.formula.api import ols\n",
    "\n",
    "# Load the dataset\n",
    "data = pd.read_csv('data.csv')\n",
    "\n",
    "# Fit the ANOVA model\n",
    "model = ols('outcome ~ C(factor1) + C(factor2) + C(factor1):C(factor2)', data).fit()\n",
    "\n",
    "# Print the ANOVA table\n",
    "table = sm.stats.anova_lm(model, typ=2)\n",
    "print(table)\n",
    "\n",
    "We then use the sm.stats.anova_lm function to calculate the ANOVA table, which includes the F-statistic and p-value for each main effect and interaction effect.\n",
    " the typ=2 argument specifies that we want to calculate the sum of squares using the Type 2 method, which is appropriate for balanced designs with no missing data. If there are missing data, you may need to use the Type 3 method or other methods for calculating the sum of squares."
   ]
  },
  {
   "cell_type": "code",
   "execution_count": 21,
   "id": "232d9e69-2ace-460e-9a1a-1d11d725a8f9",
   "metadata": {},
   "outputs": [],
   "source": [
    "#q4"
   ]
  },
  {
   "cell_type": "code",
   "execution_count": 27,
   "id": "216c5bd2-3c5d-4984-a2ef-66813fc28b61",
   "metadata": {},
   "outputs": [
    {
     "name": "stdout",
     "output_type": "stream",
     "text": [
      "             sum_sq   df         F    PR(>F)\n",
      "Group     22.888889  2.0  7.923077  0.020717\n",
      "Residual   8.666667  6.0       NaN       NaN\n"
     ]
    }
   ],
   "source": [
    "import pandas as pd\n",
    "import statsmodels.api as sm\n",
    "from statsmodels.formula.api import ols\n",
    "\n",
    "# create a dataframe with the data\n",
    "data = {'Group': ['A', 'A', 'A', 'B', 'B', 'B', 'C', 'C', 'C'],\n",
    "        'Score': [5, 7, 6, 8, 9, 10, 4, 5, 7]}\n",
    "df = pd.DataFrame(data)\n",
    "\n",
    "# perform one-way ANOVA\n",
    "model = ols('Score ~ Group', data=df).fit()\n",
    "anova_table = sm.stats.anova_lm(model, typ=2)\n",
    "print(anova_table)\n"
   ]
  },
  {
   "cell_type": "code",
   "execution_count": null,
   "id": "eaff3439-7b1e-4b63-a9da-2723f2a14c24",
   "metadata": {},
   "outputs": [],
   "source": [
    "SST = sum((Score - mean(Score))^2)\n",
    "SSE = sum(ni * (mean_i - mean(Score))^2)\n",
    "SSR = SST - SSE"
   ]
  },
  {
   "cell_type": "code",
   "execution_count": 22,
   "id": "3484685e-fbf4-4bff-93f3-0a1617e46ac0",
   "metadata": {},
   "outputs": [],
   "source": [
    "#q3"
   ]
  },
  {
   "cell_type": "code",
   "execution_count": null,
   "id": "dc22c312-7a22-4cc6-965c-5e8a6c0acc9f",
   "metadata": {},
   "outputs": [],
   "source": [
    "The partitioning of variance in ANOVA refers to the process of dividing the total variance in a set of data into different sources of variance, such as between groups, within groups, and error variance.\n",
    "This partitioning is important because it allows us to determine the relative contributions of each source of variance to the total variation in the data.\n",
    "\n",
    "By partitioning the variance into these different sources, ANOVA can determine whether there are any significant differences between the groups being compared. \n",
    "It can also help identify which source of variance is driving any significant differences, such as differences between the means of the groups or differences within each group. This information can be useful for making informed decisions, such as whether to reject or accept a null hypothesis, and for understanding the factors that contribute to variation in a dataset."
   ]
  },
  {
   "cell_type": "code",
   "execution_count": 23,
   "id": "67118466-50de-4361-b426-22592578e052",
   "metadata": {},
   "outputs": [],
   "source": [
    "#q2"
   ]
  },
  {
   "cell_type": "code",
   "execution_count": null,
   "id": "0c8445db-4443-468c-8937-35d6cfab2b73",
   "metadata": {},
   "outputs": [],
   "source": [
    "The three types of ANOVA are:\n",
    "\n",
    "One-way ANOVA: It is used when there is only one factor or independent variable that affects the dependent variable. For example, if we want to compare the effectiveness of three different treatments on a disease, we can use one-way ANOVA.\n",
    "\n",
    "Two-way ANOVA: It is used when there are two factors or independent variables that affect the dependent variable. \n",
    "For example, if we want to investigate the effect of two different factors (e.g. age and gender) on blood pressure, we can use two-way ANOVA.\n",
    "\n",
    "Repeated measures ANOVA: It is used when the same individuals are measured multiple times under different conditions.\n",
    "For example, if we want to compare the performance of individuals on a task before and after a training program, we can use repeated measures ANOVA.\n",
    "\n",
    "Each type of ANOVA is used in different situations depending on the number of factors and the design of the study.\n",
    "Understanding the appropriate type of ANOVA to use can help ensure accurate and meaningful statistical analysis.\n"
   ]
  },
  {
   "cell_type": "code",
   "execution_count": 28,
   "id": "aef0fa74-09d9-4a9f-8a4e-bcecbb7f420a",
   "metadata": {},
   "outputs": [],
   "source": [
    "#q1"
   ]
  },
  {
   "cell_type": "code",
   "execution_count": null,
   "id": "85589c98-bfb0-4ca2-8377-1eedb7b793a8",
   "metadata": {},
   "outputs": [],
   "source": [
    "ANOVA (Analysis of Variance) is a statistical test used to analyze whether there is a significant difference among the means of three or more groups. There are several assumptions that need to be met in order to use ANOVA correctly:\n",
    "\n",
    "Normality: The dependent variable should be normally distributed in each group.\n",
    "Homogeneity of variance: The variance of the dependent variable should be the same in each group.\n",
    "Independence: The observations in each group should be independent of each other.\n",
    "Violations of these assumptions can lead to incorrect results and invalid conclusions. Here are some examples of violations that could impact the validity of the results:\n",
    "\n",
    "Violation of normality: If the dependent variable is not normally distributed, the results of ANOVA may not be accurate. For example, if the dependent variable is highly skewed or has outliers, it may violate the normality assumption. This can be checked by plotting a histogram or normal probability plot of the data.\n",
    "Violation of homogeneity of variance: If the variance of the dependent variable is not the same across all groups, the results of ANOVA may not be accurate. This can be checked using a Levene's test for homogeneity of variance. If the p-value is less than the significance level, it indicates a violation of the homogeneity of variance assumption.\n",
    "Violation of independence: If the observations in each group are not independent of each other, the results of ANOVA may not be accurate. For example, if there is clustering or dependence within groups, it may violate the independence assumption. This can be checked by examining the experimental design and the method of data collection."
   ]
  }
 ],
 "metadata": {
  "kernelspec": {
   "display_name": "Python 3 (ipykernel)",
   "language": "python",
   "name": "python3"
  },
  "language_info": {
   "codemirror_mode": {
    "name": "ipython",
    "version": 3
   },
   "file_extension": ".py",
   "mimetype": "text/x-python",
   "name": "python",
   "nbconvert_exporter": "python",
   "pygments_lexer": "ipython3",
   "version": "3.10.6"
  }
 },
 "nbformat": 4,
 "nbformat_minor": 5
}
